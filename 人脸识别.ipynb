{
 "cells": [
  {
   "cell_type": "markdown",
   "id": "581c74c6",
   "metadata": {},
   "source": [
    "### 调用摄像头，人脸识别"
   ]
  },
  {
   "cell_type": "code",
   "execution_count": null,
   "id": "09baba2b",
   "metadata": {},
   "outputs": [],
   "source": [
    "import cv2\n",
    "import numpy as np\n",
    "import face_recognition\n",
    "import os\n",
    " \n",
    "path = 'images'  # 人像存储位置\n",
    "images = []\n",
    "className = []\n",
    "myList = os.listdir(path)  # 返回指定文件目录下的文件名\n",
    "print(myList)\n",
    " \n",
    "for cl in myList:  # 获取每张人像的名称\n",
    "    curImg = cv2.imread(f'{path}/{cl}')\n",
    "    images.append(curImg)\n",
    "    className.append(cl.split(\".\")[0])    \n",
    "print(className)\n",
    " \n",
    " \n",
    "def findEncodings(images):  # 获取所有存储的人像编码\n",
    "    encodeList = []\n",
    "    for img in images:\n",
    "        img = cv2.cvtColor(img, cv2.COLOR_BGR2RGB)  # 转换颜色空间（从BGR通道顺序，转换成RGB通道顺序）\n",
    "        encode = face_recognition.face_encodings(img)[0]  # 返回一个128纬的脸部特征数据\n",
    "        encodeList.append(encode)\n",
    "    return encodeList\n",
    " \n",
    "    \n",
    "    \n",
    " \n",
    "encodeListKnown = findEncodings(images)\n",
    "print('encoding complete')\n",
    "\n",
    "# 初始化摄像头，参数0代表内置摄像头，为1时，打开的为外接的摄像头\n",
    "# 返回的cap代表打开的摄像头\n",
    "cap = cv2.VideoCapture(0)   \n",
    " \n",
    "while True:\n",
    "    success, img = cap.read()  # # 从摄像头中实时读取画面\n",
    "    imgs = cv2.resize(img, (0, 0), None, 0.25, 0.25)  # 调整图片大小\n",
    "    imgs = cv2.cvtColor(imgs, cv2.COLOR_BGR2RGB) # 转换颜色空间（从BGR通道顺序，转换成RGB通道顺序）\n",
    " \n",
    "    faceCurFrame = face_recognition.face_locations(imgs)  # 获取人脸位置信息\n",
    "    # 根据人脸边框位置，从画面中锁定人脸位置，然后对锁定的该人脸进行编码\n",
    "    encodesCurFrame = face_recognition.face_encodings(imgs, faceCurFrame)  \n",
    " \n",
    "    for encodeFace, faceLoc in zip(encodesCurFrame, faceCurFrame):  # zip函数，连接成字典\n",
    "        matches = face_recognition.compare_faces(encodeListKnown, encodeFace)  # 人脸比较\n",
    "        faceDis = face_recognition.face_distance(encodeListKnown, encodeFace)  # 欧式距离\n",
    "        # print(faceDis)\n",
    "        matchIndex = np.argmin(faceDis)  # 返回数组中最小元素的索引\n",
    "        if matches[matchIndex]:\n",
    "            name = className[matchIndex].upper()\n",
    "            print(name)\n",
    "            y1, x2, y2, x1 = faceLoc  # 人脸位置\n",
    "            y1, x2, y2, x1 = y1 * 4, x2 * 4, y2 * 4, x1 * 4\n",
    "            cv2.rectangle(img, (x1, y1), (x2, y2), (0, 255, 0), 1)\n",
    "            cv2.rectangle(img, (x1, y2 - 35), (x2, y2), (0, 255, 0), cv2.FILLED)\n",
    "            cv2.putText(img, name, (x1 + 6, y2 - 6), cv2.FONT_HERSHEY_COMPLEX, 1, (255, 255, 255), 2)\n",
    " \n",
    "    cv2.imshow(str('Face_Detector'), img)\n",
    " \n",
    "    if cv2.waitKey(1) & 0xff == 27:  # 判断是否按了Esc键\n",
    "        cv2.waitKey(0)\n",
    "        break"
   ]
  },
  {
   "cell_type": "code",
   "execution_count": null,
   "id": "d5210d08",
   "metadata": {},
   "outputs": [],
   "source": []
  },
  {
   "cell_type": "code",
   "execution_count": null,
   "id": "06074579",
   "metadata": {},
   "outputs": [],
   "source": []
  },
  {
   "cell_type": "code",
   "execution_count": null,
   "id": "d7adf7ba",
   "metadata": {},
   "outputs": [],
   "source": []
  }
 ],
 "metadata": {
  "kernelspec": {
   "display_name": "Python 3",
   "language": "python",
   "name": "python3"
  },
  "language_info": {
   "codemirror_mode": {
    "name": "ipython",
    "version": 3
   },
   "file_extension": ".py",
   "mimetype": "text/x-python",
   "name": "python",
   "nbconvert_exporter": "python",
   "pygments_lexer": "ipython3",
   "version": "3.8.8"
  }
 },
 "nbformat": 4,
 "nbformat_minor": 5
}
