{
 "cells": [
  {
   "cell_type": "code",
   "execution_count": 2,
   "id": "eaaeaae5",
   "metadata": {},
   "outputs": [],
   "source": [
    "import cv2"
   ]
  },
  {
   "cell_type": "code",
   "execution_count": 3,
   "id": "7423ddf3",
   "metadata": {},
   "outputs": [
    {
     "data": {
      "text/plain": [
       "32"
      ]
     },
     "execution_count": 3,
     "metadata": {},
     "output_type": "execute_result"
    }
   ],
   "source": [
    "tree = cv2.imread(\"tree.jpg\")\n",
    "cv2.imshow(\"hello\",tree)\n",
    "cv2.waitKey(0)"
   ]
  },
  {
   "cell_type": "code",
   "execution_count": 3,
   "id": "9bd27f81",
   "metadata": {},
   "outputs": [],
   "source": [
    "cv2.waitKey?"
   ]
  },
  {
   "cell_type": "code",
   "execution_count": 1,
   "id": "b7bf7e61",
   "metadata": {},
   "outputs": [],
   "source": [
    "import cv2\n",
    "import numpy as np\n",
    "import face_recognition\n",
    "import os\n",
    "from datetime import datetime"
   ]
  },
  {
   "cell_type": "code",
   "execution_count": 2,
   "id": "7f33734b",
   "metadata": {},
   "outputs": [
    {
     "data": {
      "text/plain": [
       "['mht.jpeg', 'my.jpg', 'tianpan.jpg']"
      ]
     },
     "execution_count": 2,
     "metadata": {},
     "output_type": "execute_result"
    }
   ],
   "source": [
    "os.listdir('images')"
   ]
  },
  {
   "cell_type": "code",
   "execution_count": 5,
   "id": "8aef4fa1",
   "metadata": {},
   "outputs": [
    {
     "data": {
      "text/plain": [
       "'mht'"
      ]
     },
     "execution_count": 5,
     "metadata": {},
     "output_type": "execute_result"
    }
   ],
   "source": [
    "'mht.jpeg'.split(\".\")[0]"
   ]
  },
  {
   "cell_type": "code",
   "execution_count": null,
   "id": "19086db1",
   "metadata": {},
   "outputs": [],
   "source": []
  },
  {
   "cell_type": "code",
   "execution_count": null,
   "id": "0413768a",
   "metadata": {},
   "outputs": [],
   "source": [
    "'mht.jpeg'.split"
   ]
  },
  {
   "cell_type": "code",
   "execution_count": 7,
   "id": "089da1c0",
   "metadata": {},
   "outputs": [],
   "source": [
    "face_recognition.face_encodings?"
   ]
  },
  {
   "cell_type": "code",
   "execution_count": 10,
   "id": "e1d6df04",
   "metadata": {},
   "outputs": [
    {
     "data": {
      "text/plain": [
       "<VideoCapture 000001907374A2F0>"
      ]
     },
     "execution_count": 10,
     "metadata": {},
     "output_type": "execute_result"
    }
   ],
   "source": [
    "cv2.VideoCapture(0)"
   ]
  },
  {
   "cell_type": "code",
   "execution_count": 11,
   "id": "ae7bae39",
   "metadata": {},
   "outputs": [],
   "source": [
    "face_recognition.face_locations?"
   ]
  },
  {
   "cell_type": "code",
   "execution_count": 17,
   "id": "f11fa162",
   "metadata": {},
   "outputs": [],
   "source": [
    "face_recognition.compare_faces?"
   ]
  },
  {
   "cell_type": "code",
   "execution_count": 14,
   "id": "e5b9750b",
   "metadata": {},
   "outputs": [],
   "source": [
    "face_recognition.face_distance?"
   ]
  },
  {
   "cell_type": "code",
   "execution_count": 16,
   "id": "3234d123",
   "metadata": {},
   "outputs": [],
   "source": [
    "cv2.putText?"
   ]
  },
  {
   "cell_type": "code",
   "execution_count": null,
   "id": "aec0282a",
   "metadata": {},
   "outputs": [],
   "source": []
  }
 ],
 "metadata": {
  "kernelspec": {
   "display_name": "Python 3",
   "language": "python",
   "name": "python3"
  },
  "language_info": {
   "codemirror_mode": {
    "name": "ipython",
    "version": 3
   },
   "file_extension": ".py",
   "mimetype": "text/x-python",
   "name": "python",
   "nbconvert_exporter": "python",
   "pygments_lexer": "ipython3",
   "version": "3.8.8"
  }
 },
 "nbformat": 4,
 "nbformat_minor": 5
}
